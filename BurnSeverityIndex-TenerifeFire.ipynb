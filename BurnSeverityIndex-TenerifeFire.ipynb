{
 "cells": [
  {
   "cell_type": "markdown",
   "metadata": {},
   "source": [
    "# **Burn Severity Index calculation of Tenerife Fire, Aug 2023**"
   ]
  },
  {
   "cell_type": "code",
   "execution_count": 1,
   "metadata": {},
   "outputs": [],
   "source": [
    "#!pip install numpy\n",
    "#!pip install pandas\n",
    "#!pip install matplotlib\n",
    "#!pip install rasterio\n",
    "#!pip install scikit-image\n",
    "#!pip install sentinelsat"
   ]
  },
  {
   "cell_type": "code",
   "execution_count": 3,
   "metadata": {},
   "outputs": [],
   "source": [
    "import os\n",
    "import numpy as np\n",
    "import pandas as pd\n",
    "import glob as glob\n",
    "\n",
    "# Python libraries for visualization\n",
    "%matplotlib inline\n",
    "import matplotlib.pyplot as plt\n",
    "import matplotlib.colors\n",
    "from matplotlib.colors import BoundaryNorm, ListedColormap\n",
    "from matplotlib.cm import get_cmap\n",
    "from matplotlib.axes import Axes\n",
    "from skimage import exposure\n",
    "import rasterio\n",
    "from rasterio import plot\n",
    "from rasterio.plot import show\n",
    "\n",
    "from sentinelsat import SentinelAPI, read_geojson, geojson_to_wkt\n",
    "\n",
    "import warnings\n",
    "#warnings.simplefilter(action = \"ignore\", category = RuntimeWarning)\n",
    "#warnings.simplefilter(action = \"ignore\", category = UserWarning)"
   ]
  }
 ],
 "metadata": {
  "kernelspec": {
   "display_name": "NBR_env",
   "language": "python",
   "name": "python3"
  },
  "language_info": {
   "codemirror_mode": {
    "name": "ipython",
    "version": 3
   },
   "file_extension": ".py",
   "mimetype": "text/x-python",
   "name": "python",
   "nbconvert_exporter": "python",
   "pygments_lexer": "ipython3",
   "version": "3.11.4"
  },
  "orig_nbformat": 4
 },
 "nbformat": 4,
 "nbformat_minor": 2
}
